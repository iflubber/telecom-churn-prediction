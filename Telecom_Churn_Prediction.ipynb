{
 "cells": [
  {
   "cell_type": "markdown",
   "metadata": {},
   "source": [
    "# Telecom Churn Management - Segmentation - Classification - Case Study"
   ]
  },
  {
   "cell_type": "code",
   "execution_count": 676,
   "metadata": {},
   "outputs": [],
   "source": [
    "import pandas as pd\n",
    "import numpy as np\n",
    "import matplotlib.pyplot as plt\n",
    "%matplotlib inline\n",
    "plt.rc(\"font\", size=14)\n",
    "import seaborn as sns\n",
    "sns.set(style=\"white\")\n",
    "sns.set(style=\"whitegrid\", color_codes=True)\n",
    "from scipy import stats\n",
    "from sklearn import preprocessing\n",
    "from sklearn.model_selection import train_test_split\n",
    "from sklearn.preprocessing import LabelEncoder\n",
    "from sklearn.linear_model import LogisticRegression\n",
    "from sklearn.ensemble import RandomForestClassifier, AdaBoostClassifier\n",
    "from sklearn.metrics import mean_absolute_error, mean_squared_error\n",
    "from sklearn.metrics import accuracy_score, confusion_matrix"
   ]
  },
  {
   "cell_type": "markdown",
   "metadata": {},
   "source": [
    "### The dataset has data in 2 separate sheets for active customers and churned customers respectively"
   ]
  },
  {
   "cell_type": "code",
   "execution_count": 212,
   "metadata": {},
   "outputs": [
    {
     "name": "stdout",
     "output_type": "stream",
     "text": [
      "(9999, 29)\n"
     ]
    },
    {
     "data": {
      "text/html": [
       "<div>\n",
       "<style scoped>\n",
       "    .dataframe tbody tr th:only-of-type {\n",
       "        vertical-align: middle;\n",
       "    }\n",
       "\n",
       "    .dataframe tbody tr th {\n",
       "        vertical-align: top;\n",
       "    }\n",
       "\n",
       "    .dataframe thead th {\n",
       "        text-align: right;\n",
       "    }\n",
       "</style>\n",
       "<table border=\"1\" class=\"dataframe\">\n",
       "  <thead>\n",
       "    <tr style=\"text-align: right;\">\n",
       "      <th></th>\n",
       "      <th>SITE_ACCOUNT_NUMBER</th>\n",
       "      <th>ACCOUNT_STATUS</th>\n",
       "      <th>FIRST_COMMUNICATION_DATE</th>\n",
       "      <th>UPGRADE_DATE</th>\n",
       "      <th>SERVICE_ PLAN</th>\n",
       "      <th>MODEL</th>\n",
       "      <th>SALES_CHANNEL</th>\n",
       "      <th>DIRECT_INDIRECT_CHANNEL</th>\n",
       "      <th>SALES_SOURCE</th>\n",
       "      <th>COMPANY_SOURCE_NAME</th>\n",
       "      <th>...</th>\n",
       "      <th>SITE_TYPE_DESC</th>\n",
       "      <th>WARRANTY_NAME</th>\n",
       "      <th>MOST_RECENT_SALES_CHANNEL</th>\n",
       "      <th>GENDER</th>\n",
       "      <th>DATE_OF_BIRTH</th>\n",
       "      <th>AGE</th>\n",
       "      <th>INCOME</th>\n",
       "      <th>MARITAL_STATUS</th>\n",
       "      <th>PRESENCE_OF_CHILDREN</th>\n",
       "      <th>COMPUTER_OWNER</th>\n",
       "    </tr>\n",
       "  </thead>\n",
       "  <tbody>\n",
       "    <tr>\n",
       "      <th>0</th>\n",
       "      <td>AMR-11112345</td>\n",
       "      <td>Active</td>\n",
       "      <td>2001-11-27</td>\n",
       "      <td>2003-12-14</td>\n",
       "      <td>NaN</td>\n",
       "      <td>HN9000</td>\n",
       "      <td>Vars</td>\n",
       "      <td>Indirect</td>\n",
       "      <td>UNKNOWN</td>\n",
       "      <td>HNS Customers</td>\n",
       "      <td>...</td>\n",
       "      <td>Broadband Remote</td>\n",
       "      <td>0</td>\n",
       "      <td>HN7000 Upgrade</td>\n",
       "      <td>2.0</td>\n",
       "      <td>1-5-1943</td>\n",
       "      <td>69</td>\n",
       "      <td>0</td>\n",
       "      <td>1.0</td>\n",
       "      <td>0.0</td>\n",
       "      <td>N</td>\n",
       "    </tr>\n",
       "    <tr>\n",
       "      <th>1</th>\n",
       "      <td>AMR-14837287</td>\n",
       "      <td>Active</td>\n",
       "      <td>2003-05-02</td>\n",
       "      <td>2006-08-08</td>\n",
       "      <td>Pro</td>\n",
       "      <td>HN7000S</td>\n",
       "      <td>Sales Agents</td>\n",
       "      <td>Indirect</td>\n",
       "      <td>NCC</td>\n",
       "      <td>HNS Customers</td>\n",
       "      <td>...</td>\n",
       "      <td>Spaceway</td>\n",
       "      <td>0</td>\n",
       "      <td>Retail</td>\n",
       "      <td>2.0</td>\n",
       "      <td>28-12-1969</td>\n",
       "      <td>43</td>\n",
       "      <td>4</td>\n",
       "      <td>1.0</td>\n",
       "      <td>0.0</td>\n",
       "      <td>N</td>\n",
       "    </tr>\n",
       "    <tr>\n",
       "      <th>2</th>\n",
       "      <td>AMR-14837803</td>\n",
       "      <td>Active</td>\n",
       "      <td>2001-01-28</td>\n",
       "      <td>2004-03-17</td>\n",
       "      <td>Power150</td>\n",
       "      <td>HN9000</td>\n",
       "      <td>Call Center</td>\n",
       "      <td>Indirect</td>\n",
       "      <td>NCC</td>\n",
       "      <td>HNS Customers</td>\n",
       "      <td>...</td>\n",
       "      <td>Broadband Remote</td>\n",
       "      <td>0</td>\n",
       "      <td>National Sales</td>\n",
       "      <td>2.0</td>\n",
       "      <td>20-7-1954</td>\n",
       "      <td>58</td>\n",
       "      <td>4</td>\n",
       "      <td>1.0</td>\n",
       "      <td>0.0</td>\n",
       "      <td>N</td>\n",
       "    </tr>\n",
       "    <tr>\n",
       "      <th>3</th>\n",
       "      <td>AMR-14837821</td>\n",
       "      <td>Active</td>\n",
       "      <td>2001-11-20</td>\n",
       "      <td>2005-03-27</td>\n",
       "      <td>Power150</td>\n",
       "      <td>DW6000</td>\n",
       "      <td>Sales Agents</td>\n",
       "      <td>Direct</td>\n",
       "      <td>NaN</td>\n",
       "      <td>HNS Customers</td>\n",
       "      <td>...</td>\n",
       "      <td>Spaceway</td>\n",
       "      <td>0</td>\n",
       "      <td>Direct</td>\n",
       "      <td>NaN</td>\n",
       "      <td>10-5-1990</td>\n",
       "      <td>22</td>\n",
       "      <td>6</td>\n",
       "      <td>1.0</td>\n",
       "      <td>1.0</td>\n",
       "      <td>NaN</td>\n",
       "    </tr>\n",
       "    <tr>\n",
       "      <th>4</th>\n",
       "      <td>AMR-14839297</td>\n",
       "      <td>Active</td>\n",
       "      <td>2002-02-27</td>\n",
       "      <td>2004-06-14</td>\n",
       "      <td>Home</td>\n",
       "      <td>HN7000S</td>\n",
       "      <td>Call Center</td>\n",
       "      <td>Indirect</td>\n",
       "      <td>TAG</td>\n",
       "      <td>HNS Customers</td>\n",
       "      <td>...</td>\n",
       "      <td>Broadband Remote</td>\n",
       "      <td>0</td>\n",
       "      <td>DW6000 Upgrade</td>\n",
       "      <td>1.0</td>\n",
       "      <td>11-5-1976</td>\n",
       "      <td>36</td>\n",
       "      <td>7</td>\n",
       "      <td>0.0</td>\n",
       "      <td>0.0</td>\n",
       "      <td>NaN</td>\n",
       "    </tr>\n",
       "  </tbody>\n",
       "</table>\n",
       "<p>5 rows × 29 columns</p>\n",
       "</div>"
      ],
      "text/plain": [
       "  SITE_ACCOUNT_NUMBER ACCOUNT_STATUS FIRST_COMMUNICATION_DATE UPGRADE_DATE  \\\n",
       "0        AMR-11112345         Active               2001-11-27   2003-12-14   \n",
       "1        AMR-14837287         Active               2003-05-02   2006-08-08   \n",
       "2        AMR-14837803         Active               2001-01-28   2004-03-17   \n",
       "3        AMR-14837821         Active               2001-11-20   2005-03-27   \n",
       "4        AMR-14839297         Active               2002-02-27   2004-06-14   \n",
       "\n",
       "  SERVICE_ PLAN    MODEL SALES_CHANNEL DIRECT_INDIRECT_CHANNEL SALES_SOURCE  \\\n",
       "0           NaN   HN9000          Vars                Indirect      UNKNOWN   \n",
       "1           Pro  HN7000S  Sales Agents                Indirect          NCC   \n",
       "2      Power150   HN9000   Call Center                Indirect          NCC   \n",
       "3      Power150   DW6000  Sales Agents                  Direct          NaN   \n",
       "4          Home  HN7000S   Call Center                Indirect          TAG   \n",
       "\n",
       "  COMPANY_SOURCE_NAME      ...          SITE_TYPE_DESC WARRANTY_NAME  \\\n",
       "0       HNS Customers      ...        Broadband Remote             0   \n",
       "1       HNS Customers      ...                Spaceway             0   \n",
       "2       HNS Customers      ...        Broadband Remote             0   \n",
       "3       HNS Customers      ...                Spaceway             0   \n",
       "4       HNS Customers      ...        Broadband Remote             0   \n",
       "\n",
       "  MOST_RECENT_SALES_CHANNEL GENDER DATE_OF_BIRTH AGE INCOME MARITAL_STATUS  \\\n",
       "0            HN7000 Upgrade    2.0      1-5-1943  69      0            1.0   \n",
       "1             Retail           2.0    28-12-1969  43      4            1.0   \n",
       "2            National Sales    2.0     20-7-1954  58      4            1.0   \n",
       "3                    Direct    NaN     10-5-1990  22      6            1.0   \n",
       "4            DW6000 Upgrade    1.0     11-5-1976  36      7            0.0   \n",
       "\n",
       "  PRESENCE_OF_CHILDREN COMPUTER_OWNER  \n",
       "0                  0.0              N  \n",
       "1                  0.0              N  \n",
       "2                  0.0              N  \n",
       "3                  1.0            NaN  \n",
       "4                  0.0            NaN  \n",
       "\n",
       "[5 rows x 29 columns]"
      ]
     },
     "execution_count": 212,
     "metadata": {},
     "output_type": "execute_result"
    }
   ],
   "source": [
    "active_customers = pd.read_excel('Case_study_data.xlsx', sheet_name='Active Customers ')\n",
    "print(active_customers.shape)\n",
    "active_customers.head()"
   ]
  },
  {
   "cell_type": "code",
   "execution_count": 213,
   "metadata": {},
   "outputs": [
    {
     "name": "stdout",
     "output_type": "stream",
     "text": [
      "(10000, 30)\n"
     ]
    },
    {
     "data": {
      "text/html": [
       "<div>\n",
       "<style scoped>\n",
       "    .dataframe tbody tr th:only-of-type {\n",
       "        vertical-align: middle;\n",
       "    }\n",
       "\n",
       "    .dataframe tbody tr th {\n",
       "        vertical-align: top;\n",
       "    }\n",
       "\n",
       "    .dataframe thead th {\n",
       "        text-align: right;\n",
       "    }\n",
       "</style>\n",
       "<table border=\"1\" class=\"dataframe\">\n",
       "  <thead>\n",
       "    <tr style=\"text-align: right;\">\n",
       "      <th></th>\n",
       "      <th>SITE_ACCOUNT_NUMBER</th>\n",
       "      <th>ACCOUNT_STATUS</th>\n",
       "      <th>FIRST_COMMUNICATION_DATE</th>\n",
       "      <th>CHURN_DATE</th>\n",
       "      <th>UPGRADE_DATE</th>\n",
       "      <th>SERVICE_PLAN</th>\n",
       "      <th>MODEL</th>\n",
       "      <th>SALES_CHANNEL</th>\n",
       "      <th>DIRECT_INDIRECT_CHANNEL</th>\n",
       "      <th>SALES_SOURCE</th>\n",
       "      <th>...</th>\n",
       "      <th>SITE_TYPE_DESC</th>\n",
       "      <th>WARRANTY_NAME</th>\n",
       "      <th>MOST_RECENT_SALES_CHANNEL</th>\n",
       "      <th>GENDER</th>\n",
       "      <th>DATE_OF_BIRTH</th>\n",
       "      <th>AGE</th>\n",
       "      <th>INCOME</th>\n",
       "      <th>MARITAL_STATUS</th>\n",
       "      <th>PRESENCE_OF_CHILDREN</th>\n",
       "      <th>COMPUTER_OWNER</th>\n",
       "    </tr>\n",
       "  </thead>\n",
       "  <tbody>\n",
       "    <tr>\n",
       "      <th>0</th>\n",
       "      <td>AMR-53205840</td>\n",
       "      <td>Closed</td>\n",
       "      <td>2002-01-18</td>\n",
       "      <td>2006-04-02</td>\n",
       "      <td>2004-01-03</td>\n",
       "      <td>Professional</td>\n",
       "      <td>DW6000</td>\n",
       "      <td>NaN</td>\n",
       "      <td>Indirect</td>\n",
       "      <td>Perfect 10</td>\n",
       "      <td>...</td>\n",
       "      <td>Broadband Remote</td>\n",
       "      <td>NaN</td>\n",
       "      <td>Dealer-Generated Sale</td>\n",
       "      <td>2.0</td>\n",
       "      <td>27-10-1964</td>\n",
       "      <td>48.0</td>\n",
       "      <td>0</td>\n",
       "      <td>.</td>\n",
       "      <td>NaN</td>\n",
       "      <td>N</td>\n",
       "    </tr>\n",
       "    <tr>\n",
       "      <th>1</th>\n",
       "      <td>AMR-53383136</td>\n",
       "      <td>Closed</td>\n",
       "      <td>2002-01-02</td>\n",
       "      <td>2006-07-09</td>\n",
       "      <td>2004-07-28</td>\n",
       "      <td>SO</td>\n",
       "      <td>DW6000</td>\n",
       "      <td>Retail/Others</td>\n",
       "      <td>Indirect</td>\n",
       "      <td>ValueElectronics</td>\n",
       "      <td>...</td>\n",
       "      <td>Broadband Remote</td>\n",
       "      <td>NaN</td>\n",
       "      <td>National Sales</td>\n",
       "      <td>NaN</td>\n",
       "      <td>22-10-1965</td>\n",
       "      <td>47.0</td>\n",
       "      <td>5</td>\n",
       "      <td>0</td>\n",
       "      <td>0.0</td>\n",
       "      <td>Y</td>\n",
       "    </tr>\n",
       "    <tr>\n",
       "      <th>2</th>\n",
       "      <td>AMR-53608585</td>\n",
       "      <td>Closed</td>\n",
       "      <td>2002-01-06</td>\n",
       "      <td>2008-12-30</td>\n",
       "      <td>2005-04-27</td>\n",
       "      <td>NaN</td>\n",
       "      <td>DW6000</td>\n",
       "      <td>Retail/Others</td>\n",
       "      <td>Indirect</td>\n",
       "      <td>TAG</td>\n",
       "      <td>...</td>\n",
       "      <td>Broadband Remote</td>\n",
       "      <td>NaN</td>\n",
       "      <td>Direct</td>\n",
       "      <td>2.0</td>\n",
       "      <td>20-3-1951</td>\n",
       "      <td>61.0</td>\n",
       "      <td>8</td>\n",
       "      <td>1</td>\n",
       "      <td>0.0</td>\n",
       "      <td>Y</td>\n",
       "    </tr>\n",
       "    <tr>\n",
       "      <th>3</th>\n",
       "      <td>AMR-53610590</td>\n",
       "      <td>Closed</td>\n",
       "      <td>2002-01-05</td>\n",
       "      <td>2004-08-19</td>\n",
       "      <td>NaT</td>\n",
       "      <td>SO</td>\n",
       "      <td>DW4000</td>\n",
       "      <td>NaN</td>\n",
       "      <td>Indirect</td>\n",
       "      <td>TAG</td>\n",
       "      <td>...</td>\n",
       "      <td>Broadband Remote</td>\n",
       "      <td>NaN</td>\n",
       "      <td>Direct</td>\n",
       "      <td>1.0</td>\n",
       "      <td>27-3-1948</td>\n",
       "      <td>64.0</td>\n",
       "      <td>0</td>\n",
       "      <td>.</td>\n",
       "      <td>NaN</td>\n",
       "      <td>Y</td>\n",
       "    </tr>\n",
       "    <tr>\n",
       "      <th>4</th>\n",
       "      <td>AMR-53612154</td>\n",
       "      <td>Closed</td>\n",
       "      <td>2002-01-05</td>\n",
       "      <td>2006-08-17</td>\n",
       "      <td>2005-11-12</td>\n",
       "      <td>Professional</td>\n",
       "      <td>DW7000</td>\n",
       "      <td>Retail/Others</td>\n",
       "      <td>Indirect</td>\n",
       "      <td>Perfect 10</td>\n",
       "      <td>...</td>\n",
       "      <td>Broadband Remote</td>\n",
       "      <td>NaN</td>\n",
       "      <td>Dealer-Generated Sale</td>\n",
       "      <td>1.0</td>\n",
       "      <td>25-8-1956</td>\n",
       "      <td>56.0</td>\n",
       "      <td>6</td>\n",
       "      <td>0</td>\n",
       "      <td>0.0</td>\n",
       "      <td>N</td>\n",
       "    </tr>\n",
       "  </tbody>\n",
       "</table>\n",
       "<p>5 rows × 30 columns</p>\n",
       "</div>"
      ],
      "text/plain": [
       "  SITE_ACCOUNT_NUMBER ACCOUNT_STATUS FIRST_COMMUNICATION_DATE CHURN_DATE  \\\n",
       "0        AMR-53205840         Closed               2002-01-18 2006-04-02   \n",
       "1        AMR-53383136         Closed               2002-01-02 2006-07-09   \n",
       "2        AMR-53608585         Closed               2002-01-06 2008-12-30   \n",
       "3        AMR-53610590         Closed               2002-01-05 2004-08-19   \n",
       "4        AMR-53612154         Closed               2002-01-05 2006-08-17   \n",
       "\n",
       "  UPGRADE_DATE  SERVICE_PLAN   MODEL  SALES_CHANNEL DIRECT_INDIRECT_CHANNEL  \\\n",
       "0   2004-01-03  Professional  DW6000            NaN                Indirect   \n",
       "1   2004-07-28            SO  DW6000  Retail/Others                Indirect   \n",
       "2   2005-04-27           NaN  DW6000  Retail/Others                Indirect   \n",
       "3          NaT            SO  DW4000            NaN                Indirect   \n",
       "4   2005-11-12  Professional  DW7000  Retail/Others                Indirect   \n",
       "\n",
       "       SALES_SOURCE      ...          SITE_TYPE_DESC WARRANTY_NAME  \\\n",
       "0        Perfect 10      ...        Broadband Remote           NaN   \n",
       "1  ValueElectronics      ...        Broadband Remote           NaN   \n",
       "2               TAG      ...        Broadband Remote           NaN   \n",
       "3               TAG      ...        Broadband Remote           NaN   \n",
       "4        Perfect 10      ...        Broadband Remote           NaN   \n",
       "\n",
       "  MOST_RECENT_SALES_CHANNEL GENDER DATE_OF_BIRTH   AGE INCOME MARITAL_STATUS  \\\n",
       "0     Dealer-Generated Sale    2.0    27-10-1964  48.0      0              .   \n",
       "1            National Sales    NaN    22-10-1965  47.0      5              0   \n",
       "2                    Direct    2.0     20-3-1951  61.0      8              1   \n",
       "3                    Direct    1.0     27-3-1948  64.0      0              .   \n",
       "4     Dealer-Generated Sale    1.0     25-8-1956  56.0      6              0   \n",
       "\n",
       "  PRESENCE_OF_CHILDREN COMPUTER_OWNER  \n",
       "0                  NaN              N  \n",
       "1                  0.0              Y  \n",
       "2                  0.0              Y  \n",
       "3                  NaN              Y  \n",
       "4                  0.0              N  \n",
       "\n",
       "[5 rows x 30 columns]"
      ]
     },
     "execution_count": 213,
     "metadata": {},
     "output_type": "execute_result"
    }
   ],
   "source": [
    "churn_customers = pd.read_excel('Case_study_data.xlsx', sheet_name='Churn Customers')\n",
    "print(churn_customers.shape)\n",
    "churn_customers.head()"
   ]
  },
  {
   "cell_type": "markdown",
   "metadata": {},
   "source": [
    "### Data Approach\n",
    "1. Add a new response variable 'Churn' to the dataset:\n",
    "    \n",
    "    1.1 Churn = 1 (Yes) for customers in churn_customers data\n",
    "    \n",
    "    1.2 Churn = 0 (No) for customers in active_customers data\n",
    "    \n",
    "2. Drop the ACCOUNT_STATUS feature from both the datasets\n",
    "3. Merge the 2 datasets for predictive modeling"
   ]
  },
  {
   "cell_type": "code",
   "execution_count": 214,
   "metadata": {},
   "outputs": [],
   "source": [
    "active_customers['Churn'] = 0\n",
    "active_customers.drop('ACCOUNT_STATUS',axis=1,inplace=True)\n",
    "\n",
    "churn_customers['Churn'] = 1\n",
    "churn_customers.drop('ACCOUNT_STATUS',axis=1,inplace=True)"
   ]
  },
  {
   "cell_type": "code",
   "execution_count": 215,
   "metadata": {},
   "outputs": [],
   "source": [
    "# column name correction to maintain uniformity amongst the 2 datasets\n",
    "active_customers.rename(columns={'SERVICE_ PLAN':'SERVICE_PLAN'}, \n",
    "                 inplace=True)"
   ]
  },
  {
   "cell_type": "code",
   "execution_count": 501,
   "metadata": {},
   "outputs": [],
   "source": [
    "#active_customers = active_customers.reset_index().set_index('SITE_ACCOUNT_NUMBER')\n",
    "#active_customers.dropna(how='all',inplace=True)\n",
    "#churn_customers.dropna(how='all',inplace=True)\n",
    "telco_customers = pd.concat([active_customers,churn_customers],ignore_index=True)"
   ]
  },
  {
   "cell_type": "markdown",
   "metadata": {},
   "source": [
    "## Data Cleaning & EDA (Exploratory Data Analysis)"
   ]
  },
  {
   "cell_type": "code",
   "execution_count": 475,
   "metadata": {},
   "outputs": [
    {
     "data": {
      "text/plain": [
       "(19999, 30)"
      ]
     },
     "execution_count": 475,
     "metadata": {},
     "output_type": "execute_result"
    }
   ],
   "source": [
    "telco_customers.shape"
   ]
  },
  {
   "cell_type": "code",
   "execution_count": 476,
   "metadata": {},
   "outputs": [
    {
     "data": {
      "text/plain": [
       "Index(['ADDRESS', 'AGE', 'CHURN_DATE', 'CITY', 'COMPANY_SOURCE_NAME',\n",
       "       'COMPUTER_OWNER', 'Churn', 'DATE_OF_BIRTH', 'DIRECT_INDIRECT_CHANNEL',\n",
       "       'EMAIL_ADDRESS', 'FEEDBACK', 'FIRST_COMMUNICATION_DATE', 'FIRST_NAME',\n",
       "       'GENDER', 'INCOME', 'LAST_NAME', 'MARITAL_STATUS', 'MODEL',\n",
       "       'MOST_RECENT_SALES_CHANNEL', 'PRESENCE_OF_CHILDREN', 'SALES_CHANNEL',\n",
       "       'SALES_SOURCE', 'SATELLITE', 'SERVICE_PLAN', 'SITE_ACCOUNT_NUMBER',\n",
       "       'SITE_TYPE_DESC', 'STATE', 'UPGRADE_DATE', 'WARRANTY_NAME', 'ZIPCODE'],\n",
       "      dtype='object')"
      ]
     },
     "execution_count": 476,
     "metadata": {},
     "output_type": "execute_result"
    }
   ],
   "source": [
    "telco_customers.columns"
   ]
  },
  {
   "cell_type": "code",
   "execution_count": 477,
   "metadata": {},
   "outputs": [
    {
     "data": {
      "text/html": [
       "<div>\n",
       "<style scoped>\n",
       "    .dataframe tbody tr th:only-of-type {\n",
       "        vertical-align: middle;\n",
       "    }\n",
       "\n",
       "    .dataframe tbody tr th {\n",
       "        vertical-align: top;\n",
       "    }\n",
       "\n",
       "    .dataframe thead th {\n",
       "        text-align: right;\n",
       "    }\n",
       "</style>\n",
       "<table border=\"1\" class=\"dataframe\">\n",
       "  <thead>\n",
       "    <tr style=\"text-align: right;\">\n",
       "      <th></th>\n",
       "      <th>ADDRESS</th>\n",
       "      <th>AGE</th>\n",
       "      <th>CHURN_DATE</th>\n",
       "      <th>CITY</th>\n",
       "      <th>COMPANY_SOURCE_NAME</th>\n",
       "      <th>COMPUTER_OWNER</th>\n",
       "      <th>Churn</th>\n",
       "      <th>DATE_OF_BIRTH</th>\n",
       "      <th>DIRECT_INDIRECT_CHANNEL</th>\n",
       "      <th>EMAIL_ADDRESS</th>\n",
       "      <th>...</th>\n",
       "      <th>SALES_CHANNEL</th>\n",
       "      <th>SALES_SOURCE</th>\n",
       "      <th>SATELLITE</th>\n",
       "      <th>SERVICE_PLAN</th>\n",
       "      <th>SITE_ACCOUNT_NUMBER</th>\n",
       "      <th>SITE_TYPE_DESC</th>\n",
       "      <th>STATE</th>\n",
       "      <th>UPGRADE_DATE</th>\n",
       "      <th>WARRANTY_NAME</th>\n",
       "      <th>ZIPCODE</th>\n",
       "    </tr>\n",
       "  </thead>\n",
       "  <tbody>\n",
       "    <tr>\n",
       "      <th>0</th>\n",
       "      <td>TRIPLE CANTHOOK LN 0 0 0</td>\n",
       "      <td>69</td>\n",
       "      <td>NaT</td>\n",
       "      <td>GERMANTOWN</td>\n",
       "      <td>HNS Customers</td>\n",
       "      <td>N</td>\n",
       "      <td>0</td>\n",
       "      <td>1-5-1943</td>\n",
       "      <td>Indirect</td>\n",
       "      <td>Ace.FUTRELL@hotmail.com</td>\n",
       "      <td>...</td>\n",
       "      <td>Vars</td>\n",
       "      <td>UNKNOWN</td>\n",
       "      <td>SPACEWAY3</td>\n",
       "      <td>NaN</td>\n",
       "      <td>AMR-11112345</td>\n",
       "      <td>Broadband Remote</td>\n",
       "      <td>MD</td>\n",
       "      <td>2003-12-14</td>\n",
       "      <td>0</td>\n",
       "      <td>20876</td>\n",
       "    </tr>\n",
       "    <tr>\n",
       "      <th>1</th>\n",
       "      <td>RR JOE 62 0 0 0</td>\n",
       "      <td>43</td>\n",
       "      <td>NaT</td>\n",
       "      <td>WEST BERLIN</td>\n",
       "      <td>HNS Customers</td>\n",
       "      <td>N</td>\n",
       "      <td>0</td>\n",
       "      <td>28-12-1969</td>\n",
       "      <td>Indirect</td>\n",
       "      <td>Robert.Fitzpatrick@hughes.net</td>\n",
       "      <td>...</td>\n",
       "      <td>Sales Agents</td>\n",
       "      <td>NCC</td>\n",
       "      <td>HZN2-VER-4K</td>\n",
       "      <td>Pro</td>\n",
       "      <td>AMR-14837287</td>\n",
       "      <td>Spaceway</td>\n",
       "      <td>NJ</td>\n",
       "      <td>2006-08-08</td>\n",
       "      <td>0</td>\n",
       "      <td>8091</td>\n",
       "    </tr>\n",
       "    <tr>\n",
       "      <th>2</th>\n",
       "      <td>69330 1 RD WAY 0 0</td>\n",
       "      <td>58</td>\n",
       "      <td>NaT</td>\n",
       "      <td>MERRYVILLE</td>\n",
       "      <td>HNS Customers</td>\n",
       "      <td>N</td>\n",
       "      <td>0</td>\n",
       "      <td>20-7-1954</td>\n",
       "      <td>Indirect</td>\n",
       "      <td>EDWARD.Vipperman@rossaweb.net</td>\n",
       "      <td>...</td>\n",
       "      <td>Call Center</td>\n",
       "      <td>NCC</td>\n",
       "      <td>SM5-VER-15K</td>\n",
       "      <td>Power150</td>\n",
       "      <td>AMR-14837803</td>\n",
       "      <td>Broadband Remote</td>\n",
       "      <td>LA</td>\n",
       "      <td>2004-03-17</td>\n",
       "      <td>0</td>\n",
       "      <td>70653</td>\n",
       "    </tr>\n",
       "    <tr>\n",
       "      <th>3</th>\n",
       "      <td>PO ROCK ST 421 0 0</td>\n",
       "      <td>22</td>\n",
       "      <td>NaT</td>\n",
       "      <td>ZANESVILLE</td>\n",
       "      <td>HNS Customers</td>\n",
       "      <td>NaN</td>\n",
       "      <td>0</td>\n",
       "      <td>10-5-1990</td>\n",
       "      <td>Direct</td>\n",
       "      <td>Danny.Jyotinagaram@sipnsearch.com</td>\n",
       "      <td>...</td>\n",
       "      <td>Sales Agents</td>\n",
       "      <td>NaN</td>\n",
       "      <td>SPACEWAY3</td>\n",
       "      <td>Power150</td>\n",
       "      <td>AMR-14837821</td>\n",
       "      <td>Spaceway</td>\n",
       "      <td>OH</td>\n",
       "      <td>2005-03-27</td>\n",
       "      <td>0</td>\n",
       "      <td>43701</td>\n",
       "    </tr>\n",
       "    <tr>\n",
       "      <th>4</th>\n",
       "      <td>626 NW RD 0 0 0</td>\n",
       "      <td>36</td>\n",
       "      <td>NaT</td>\n",
       "      <td>CALLICOON</td>\n",
       "      <td>HNS Customers</td>\n",
       "      <td>NaN</td>\n",
       "      <td>0</td>\n",
       "      <td>11-5-1976</td>\n",
       "      <td>Indirect</td>\n",
       "      <td>Joanne.BARNOSKY@geeksquad.com</td>\n",
       "      <td>...</td>\n",
       "      <td>Call Center</td>\n",
       "      <td>TAG</td>\n",
       "      <td>0</td>\n",
       "      <td>Home</td>\n",
       "      <td>AMR-14839297</td>\n",
       "      <td>Broadband Remote</td>\n",
       "      <td>NY</td>\n",
       "      <td>2004-06-14</td>\n",
       "      <td>0</td>\n",
       "      <td>12723</td>\n",
       "    </tr>\n",
       "  </tbody>\n",
       "</table>\n",
       "<p>5 rows × 30 columns</p>\n",
       "</div>"
      ],
      "text/plain": [
       "                    ADDRESS AGE CHURN_DATE         CITY COMPANY_SOURCE_NAME  \\\n",
       "0  TRIPLE CANTHOOK LN 0 0 0  69        NaT   GERMANTOWN       HNS Customers   \n",
       "1           RR JOE 62 0 0 0  43        NaT  WEST BERLIN       HNS Customers   \n",
       "2        69330 1 RD WAY 0 0  58        NaT   MERRYVILLE       HNS Customers   \n",
       "3        PO ROCK ST 421 0 0  22        NaT   ZANESVILLE       HNS Customers   \n",
       "4           626 NW RD 0 0 0  36        NaT    CALLICOON       HNS Customers   \n",
       "\n",
       "  COMPUTER_OWNER  Churn DATE_OF_BIRTH DIRECT_INDIRECT_CHANNEL  \\\n",
       "0              N      0      1-5-1943                Indirect   \n",
       "1              N      0    28-12-1969                Indirect   \n",
       "2              N      0     20-7-1954                Indirect   \n",
       "3            NaN      0     10-5-1990                  Direct   \n",
       "4            NaN      0     11-5-1976                Indirect   \n",
       "\n",
       "                       EMAIL_ADDRESS   ...    SALES_CHANNEL SALES_SOURCE  \\\n",
       "0            Ace.FUTRELL@hotmail.com   ...             Vars      UNKNOWN   \n",
       "1      Robert.Fitzpatrick@hughes.net   ...     Sales Agents          NCC   \n",
       "2      EDWARD.Vipperman@rossaweb.net   ...      Call Center          NCC   \n",
       "3  Danny.Jyotinagaram@sipnsearch.com   ...     Sales Agents          NaN   \n",
       "4      Joanne.BARNOSKY@geeksquad.com   ...      Call Center          TAG   \n",
       "\n",
       "     SATELLITE  SERVICE_PLAN SITE_ACCOUNT_NUMBER    SITE_TYPE_DESC STATE  \\\n",
       "0    SPACEWAY3           NaN        AMR-11112345  Broadband Remote    MD   \n",
       "1  HZN2-VER-4K           Pro        AMR-14837287          Spaceway    NJ   \n",
       "2  SM5-VER-15K      Power150        AMR-14837803  Broadband Remote    LA   \n",
       "3    SPACEWAY3      Power150        AMR-14837821          Spaceway    OH   \n",
       "4            0          Home        AMR-14839297  Broadband Remote    NY   \n",
       "\n",
       "  UPGRADE_DATE WARRANTY_NAME  ZIPCODE  \n",
       "0   2003-12-14             0    20876  \n",
       "1   2006-08-08             0     8091  \n",
       "2   2004-03-17             0    70653  \n",
       "3   2005-03-27             0    43701  \n",
       "4   2004-06-14             0    12723  \n",
       "\n",
       "[5 rows x 30 columns]"
      ]
     },
     "execution_count": 477,
     "metadata": {},
     "output_type": "execute_result"
    }
   ],
   "source": [
    "telco_customers.head()"
   ]
  },
  {
   "cell_type": "markdown",
   "metadata": {},
   "source": [
    "### Missing Values & DataType correction"
   ]
  },
  {
   "cell_type": "code",
   "execution_count": 502,
   "metadata": {},
   "outputs": [],
   "source": [
    "# correcting the missing value notations\n",
    "telco_customers.replace('.',np.nan,inplace=True)\n",
    "telco_customers.replace('.!',np.nan,inplace=True)\n",
    "telco_customers.replace('',np.nan,inplace=True)\n",
    "telco_customers.replace(' ',np.nan,inplace=True)\n",
    "telco_customers.replace('#REF!',np.nan,inplace=True)\n",
    "telco_customers.DIRECT_INDIRECT_CHANNEL.replace(0,np.nan,inplace=True)\n",
    "telco_customers.SALES_SOURCE.replace(0,np.nan,inplace=True)\n",
    "telco_customers.SATELLITE.replace(0,np.nan,inplace=True)\n",
    "telco_customers.WARRANTY_NAME.replace(0,np.nan,inplace=True)\n",
    "telco_customers.MOST_RECENT_SALES_CHANNEL.replace(0,np.nan,inplace=True)"
   ]
  },
  {
   "cell_type": "code",
   "execution_count": 479,
   "metadata": {},
   "outputs": [
    {
     "name": "stdout",
     "output_type": "stream",
     "text": [
      "<class 'pandas.core.frame.DataFrame'>\n",
      "RangeIndex: 19999 entries, 0 to 19998\n",
      "Data columns (total 30 columns):\n",
      "ADDRESS                      19936 non-null object\n",
      "AGE                          19634 non-null float64\n",
      "CHURN_DATE                   10000 non-null datetime64[ns]\n",
      "CITY                         19932 non-null object\n",
      "COMPANY_SOURCE_NAME          19980 non-null object\n",
      "COMPUTER_OWNER               13701 non-null object\n",
      "Churn                        19999 non-null int64\n",
      "DATE_OF_BIRTH                19634 non-null object\n",
      "DIRECT_INDIRECT_CHANNEL      19161 non-null object\n",
      "EMAIL_ADDRESS                19959 non-null object\n",
      "FEEDBACK                     16057 non-null object\n",
      "FIRST_COMMUNICATION_DATE     19989 non-null datetime64[ns]\n",
      "FIRST_NAME                   19972 non-null object\n",
      "GENDER                       17490 non-null float64\n",
      "INCOME                       19681 non-null object\n",
      "LAST_NAME                    19991 non-null object\n",
      "MARITAL_STATUS               16058 non-null float64\n",
      "MODEL                        18613 non-null object\n",
      "MOST_RECENT_SALES_CHANNEL    19912 non-null object\n",
      "PRESENCE_OF_CHILDREN         17432 non-null float64\n",
      "SALES_CHANNEL                14491 non-null object\n",
      "SALES_SOURCE                 19006 non-null object\n",
      "SATELLITE                    17748 non-null object\n",
      "SERVICE_PLAN                 17278 non-null object\n",
      "SITE_ACCOUNT_NUMBER          19998 non-null object\n",
      "SITE_TYPE_DESC               19925 non-null object\n",
      "STATE                        19932 non-null object\n",
      "UPGRADE_DATE                 19110 non-null datetime64[ns]\n",
      "WARRANTY_NAME                3726 non-null object\n",
      "ZIPCODE                      19769 non-null float64\n",
      "dtypes: datetime64[ns](3), float64(5), int64(1), object(21)\n",
      "memory usage: 4.6+ MB\n"
     ]
    }
   ],
   "source": [
    "telco_customers.info()"
   ]
  },
  {
   "cell_type": "code",
   "execution_count": 503,
   "metadata": {},
   "outputs": [],
   "source": [
    "telco_customers.Churn = telco_customers.Churn.astype('category')"
   ]
  },
  {
   "cell_type": "code",
   "execution_count": 504,
   "metadata": {},
   "outputs": [],
   "source": [
    "telco_customers['GENDER'] = telco_customers['GENDER'].fillna(-1)\n",
    "telco_customers['GENDER'] = telco_customers['GENDER'].astype(int)\n",
    "telco_customers['GENDER'] = telco_customers['GENDER'].astype(str)\n",
    "telco_customers['GENDER'] = telco_customers['GENDER'].replace('-1', np.nan)"
   ]
  },
  {
   "cell_type": "code",
   "execution_count": 505,
   "metadata": {},
   "outputs": [],
   "source": [
    "telco_customers['PRESENCE_OF_CHILDREN'] = telco_customers['PRESENCE_OF_CHILDREN'].fillna(-1)\n",
    "telco_customers['PRESENCE_OF_CHILDREN'] = telco_customers['PRESENCE_OF_CHILDREN'].astype(int)\n",
    "telco_customers['PRESENCE_OF_CHILDREN'] = telco_customers['PRESENCE_OF_CHILDREN'].astype(str)\n",
    "telco_customers['PRESENCE_OF_CHILDREN'] = telco_customers['PRESENCE_OF_CHILDREN'].replace('-1', np.nan)"
   ]
  },
  {
   "cell_type": "code",
   "execution_count": 506,
   "metadata": {},
   "outputs": [],
   "source": [
    "telco_customers['MARITAL_STATUS'] = telco_customers['MARITAL_STATUS'].fillna(-1)\n",
    "telco_customers['MARITAL_STATUS'] = telco_customers['MARITAL_STATUS'].astype(int)\n",
    "telco_customers['MARITAL_STATUS'] = telco_customers['MARITAL_STATUS'].astype(str)\n",
    "telco_customers['MARITAL_STATUS'] = telco_customers['MARITAL_STATUS'].replace('-1', np.nan)"
   ]
  },
  {
   "cell_type": "code",
   "execution_count": 507,
   "metadata": {},
   "outputs": [],
   "source": [
    "telco_customers['ZIPCODE'] = telco_customers['ZIPCODE'].fillna(-1)\n",
    "telco_customers['ZIPCODE'] = telco_customers['ZIPCODE'].astype(int)\n",
    "telco_customers['ZIPCODE'] = telco_customers['ZIPCODE'].astype(str)\n",
    "telco_customers['ZIPCODE'] = telco_customers['ZIPCODE'].replace('-1', np.nan)"
   ]
  },
  {
   "cell_type": "code",
   "execution_count": 485,
   "metadata": {},
   "outputs": [
    {
     "data": {
      "text/plain": [
       "29"
      ]
     },
     "execution_count": 485,
     "metadata": {},
     "output_type": "execute_result"
    }
   ],
   "source": [
    "# check for missing values\n",
    "telco_customers.isnull().any().sum()"
   ]
  },
  {
   "cell_type": "code",
   "execution_count": 486,
   "metadata": {},
   "outputs": [
    {
     "data": {
      "text/plain": [
       "ADDRESS                         63\n",
       "AGE                            365\n",
       "CHURN_DATE                    9999\n",
       "CITY                            67\n",
       "COMPANY_SOURCE_NAME             19\n",
       "COMPUTER_OWNER                6298\n",
       "Churn                            0\n",
       "DATE_OF_BIRTH                  365\n",
       "DIRECT_INDIRECT_CHANNEL        838\n",
       "EMAIL_ADDRESS                   40\n",
       "FEEDBACK                      3942\n",
       "FIRST_COMMUNICATION_DATE        10\n",
       "FIRST_NAME                      27\n",
       "GENDER                        2509\n",
       "INCOME                         318\n",
       "LAST_NAME                        8\n",
       "MARITAL_STATUS                3941\n",
       "MODEL                         1386\n",
       "MOST_RECENT_SALES_CHANNEL       87\n",
       "PRESENCE_OF_CHILDREN          2567\n",
       "SALES_CHANNEL                 5508\n",
       "SALES_SOURCE                   993\n",
       "SATELLITE                     2251\n",
       "SERVICE_PLAN                  2721\n",
       "SITE_ACCOUNT_NUMBER              1\n",
       "SITE_TYPE_DESC                  74\n",
       "STATE                           67\n",
       "UPGRADE_DATE                   889\n",
       "WARRANTY_NAME                16273\n",
       "ZIPCODE                        230\n",
       "dtype: int64"
      ]
     },
     "execution_count": 486,
     "metadata": {},
     "output_type": "execute_result"
    }
   ],
   "source": [
    "telco_customers.isnull().sum()"
   ]
  },
  {
   "cell_type": "code",
   "execution_count": 508,
   "metadata": {},
   "outputs": [],
   "source": [
    "telco_customers.AGE.fillna(telco_customers.AGE.mean(),inplace=True)\n",
    "telco_customers.COMPUTER_OWNER.fillna('N',inplace=True)\n",
    "telco_customers.DIRECT_INDIRECT_CHANNEL.fillna('Indirect',inplace=True)\n",
    "telco_customers.FEEDBACK.fillna('BAD',inplace=True)\n",
    "telco_customers.GENDER.fillna('1',inplace=True)\n",
    "telco_customers.INCOME.fillna('0',inplace=True)\n",
    "telco_customers.MARITAL_STATUS.fillna('0',inplace=True)\n",
    "telco_customers.PRESENCE_OF_CHILDREN.fillna('0',inplace=True)\n",
    "telco_customers.SALES_CHANNEL.fillna('Sales Agents',inplace=True)\n",
    "telco_customers.SALES_SOURCE.fillna('TAG',inplace=True)\n",
    "telco_customers.SATELLITE.fillna('SPACEWAY3',inplace=True)\n",
    "telco_customers.SERVICE_PLAN.fillna('Home',inplace=True)\n",
    "telco_customers.drop(9998,inplace=True) # drop the row with SITE_ACCOUNT_NUMBER = NaN\n",
    "telco_customers.SITE_TYPE_DESC.fillna('Broadband Remote',inplace=True)\n",
    "telco_customers.WARRANTY_NAME.fillna('Not Applicable',inplace=True)\n",
    "telco_customers.COMPANY_SOURCE_NAME.fillna('HNS Customers',inplace=True)\n",
    "telco_customers.MODEL.fillna('HN7000S',inplace=True)\n",
    "telco_customers.MOST_RECENT_SALES_CHANNEL.fillna('Direct',inplace=True)\n",
    "telco_customers.drop('DATE_OF_BIRTH',axis=1,inplace=True) # we already have Age\n",
    "telco_customers.FIRST_COMMUNICATION_DATE.fillna(telco_customers.FIRST_COMMUNICATION_DATE.max(),inplace=True)\n",
    "# Set address features to unknown\n",
    "telco_customers.ADDRESS.fillna('UNKNOWN',inplace=True)\n",
    "telco_customers.CITY.fillna('UNKNOWN',inplace=True)\n",
    "telco_customers.STATE.fillna('UNKNOWN',inplace=True)\n",
    "telco_customers.ZIPCODE.fillna('UNKNOWN',inplace=True)\n",
    "\n",
    "telco_customers.FIRST_NAME.fillna(telco_customers.LAST_NAME,inplace=True)\n",
    "telco_customers.LAST_NAME.fillna(telco_customers.FIRST_NAME,inplace=True)\n",
    "telco_customers.EMAIL_ADDRESS.fillna('UNKNOWN',inplace=True)"
   ]
  },
  {
   "cell_type": "code",
   "execution_count": 509,
   "metadata": {},
   "outputs": [],
   "source": [
    "# New features from Date columns\n",
    "telco_customers['DAYS_ACTIVE'] = telco_customers['CHURN_DATE'] - telco_customers['FIRST_COMMUNICATION_DATE']\n",
    "# missing values are for currently active customers, set a very high value say 100 years\n",
    "telco_customers.DAYS_ACTIVE.fillna(pd.to_datetime('2100-01-01') - df['FIRST_COMMUNICATION_DATE'],inplace=True)\n",
    "telco_customers.drop('CHURN_DATE',axis=1,inplace=True)\n",
    "\n",
    "telco_customers['FLAG_UPGRADE'] = np.where(telco_customers.UPGRADE_DATE.isnull(),0,1)\n",
    "telco_customers.drop('UPGRADE_DATE',axis=1,inplace=True)"
   ]
  },
  {
   "cell_type": "code",
   "execution_count": 525,
   "metadata": {},
   "outputs": [],
   "source": [
    "telco_customers.DAYS_ACTIVE = telco_customers.DAYS_ACTIVE.astype('timedelta64[D]')\n",
    "telco_customers.DAYS_ACTIVE = telco_customers.DAYS_ACTIVE.astype(int)"
   ]
  },
  {
   "cell_type": "code",
   "execution_count": 570,
   "metadata": {},
   "outputs": [],
   "source": [
    "telco_customers.INCOME.replace(0,'0',inplace=True)\n",
    "telco_customers.INCOME.replace(1,'1',inplace=True)\n",
    "telco_customers.INCOME.replace(2,'2',inplace=True)\n",
    "telco_customers.INCOME.replace(3,'3',inplace=True)\n",
    "telco_customers.INCOME.replace(4,'4',inplace=True)\n",
    "telco_customers.INCOME.replace(5,'5',inplace=True)\n",
    "telco_customers.INCOME.replace(6,'6',inplace=True)\n",
    "telco_customers.INCOME.replace(7,'7',inplace=True)\n",
    "telco_customers.INCOME.replace(8,'8',inplace=True)\n",
    "telco_customers.INCOME.replace(9,'9',inplace=True)\n",
    "telco_customers.INCOME.replace(10,'10',inplace=True)"
   ]
  },
  {
   "cell_type": "code",
   "execution_count": 529,
   "metadata": {},
   "outputs": [
    {
     "data": {
      "text/plain": [
       "Index(['ADDRESS', 'AGE', 'CITY', 'COMPANY_SOURCE_NAME', 'COMPUTER_OWNER',\n",
       "       'Churn', 'DIRECT_INDIRECT_CHANNEL', 'EMAIL_ADDRESS', 'FEEDBACK',\n",
       "       'FIRST_COMMUNICATION_DATE', 'FIRST_NAME', 'GENDER', 'INCOME',\n",
       "       'LAST_NAME', 'MARITAL_STATUS', 'MODEL', 'MOST_RECENT_SALES_CHANNEL',\n",
       "       'PRESENCE_OF_CHILDREN', 'SALES_CHANNEL', 'SALES_SOURCE', 'SATELLITE',\n",
       "       'SERVICE_PLAN', 'SITE_ACCOUNT_NUMBER', 'SITE_TYPE_DESC', 'STATE',\n",
       "       'WARRANTY_NAME', 'ZIPCODE', 'DAYS_ACTIVE', 'FLAG_UPGRADE'],\n",
       "      dtype='object')"
      ]
     },
     "execution_count": 529,
     "metadata": {},
     "output_type": "execute_result"
    }
   ],
   "source": [
    "telco_customers.columns"
   ]
  },
  {
   "cell_type": "markdown",
   "metadata": {},
   "source": [
    "### Data is clean now"
   ]
  },
  {
   "cell_type": "markdown",
   "metadata": {},
   "source": [
    "## Key Visualizations"
   ]
  },
  {
   "cell_type": "code",
   "execution_count": 526,
   "metadata": {},
   "outputs": [
    {
     "data": {
      "text/plain": [
       "array([<matplotlib.axes._subplots.AxesSubplot object at 0x1a1f6d3908>,\n",
       "       <matplotlib.axes._subplots.AxesSubplot object at 0x1a216535f8>],\n",
       "      dtype=object)"
      ]
     },
     "execution_count": 526,
     "metadata": {},
     "output_type": "execute_result"
    },
    {
     "data": {
      "image/png": "[encoded data removed]",
      "text/plain": [
       "<matplotlib.figure.Figure at 0x1a1ffad1d0>"
      ]
     },
     "metadata": {},
     "output_type": "display_data"
    }
   ],
   "source": [
    "telco_customers.hist(column='FLAG_UPGRADE',by='Churn',bins=10)"
   ]
  },
  {
   "cell_type": "markdown",
   "metadata": {},
   "source": [
    " Upgrade does seem to be a factor for Churn"
   ]
  },
  {
   "cell_type": "code",
   "execution_count": 534,
   "metadata": {},
   "outputs": [
    {
     "data": {
      "text/plain": [
       "array([<matplotlib.axes._subplots.AxesSubplot object at 0x1a224d4908>,\n",
       "       <matplotlib.axes._subplots.AxesSubplot object at 0x1a22624828>],\n",
       "      dtype=object)"
      ]
     },
     "execution_count": 534,
     "metadata": {},
     "output_type": "execute_result"
    },
    {
     "data": {
      "image/png": "[encoded data removed]",
      "text/plain": [
       "<matplotlib.figure.Figure at 0x1a224dea58>"
      ]
     },
     "metadata": {},
     "output_type": "display_data"
    }
   ],
   "source": [
    "telco_customers.hist(column='DAYS_ACTIVE',by='Churn',bins=50)"
   ]
  },
  {
   "cell_type": "markdown",
   "metadata": {},
   "source": [
    "Customers who have been active for under 4 years are prone to Churn"
   ]
  },
  {
   "cell_type": "code",
   "execution_count": 533,
   "metadata": {},
   "outputs": [
    {
     "data": {
      "text/plain": [
       "array([<matplotlib.axes._subplots.AxesSubplot object at 0x1a2003bba8>,\n",
       "       <matplotlib.axes._subplots.AxesSubplot object at 0x1a22393588>],\n",
       "      dtype=object)"
      ]
     },
     "execution_count": 533,
     "metadata": {},
     "output_type": "execute_result"
    },
    {
     "data": {
      "image/png": "[encoded data removed]",
      "text/plain": [
       "<matplotlib.figure.Figure at 0x1a22325ac8>"
      ]
     },
     "metadata": {},
     "output_type": "display_data"
    }
   ],
   "source": [
    "telco_customers.hist(column='WARRANTY_NAME',by='Churn',bins=50)"
   ]
  },
  {
   "cell_type": "markdown",
   "metadata": {},
   "source": [
    "Warranties seem to be a deciding factor. Perhaps if the warranties are not fulfilled, customers Churn."
   ]
  },
  {
   "cell_type": "code",
   "execution_count": 532,
   "metadata": {},
   "outputs": [
    {
     "data": {
      "text/plain": [
       "array([<matplotlib.axes._subplots.AxesSubplot object at 0x1a1f8a9828>,\n",
       "       <matplotlib.axes._subplots.AxesSubplot object at 0x1a2186d9e8>],\n",
       "      dtype=object)"
      ]
     },
     "execution_count": 532,
     "metadata": {},
     "output_type": "execute_result"
    },
    {
     "data": {
      "image/png": "[encoded data removed]",
      "text/plain": [
       "<matplotlib.figure.Figure at 0x1a1f8d4b70>"
      ]
     },
     "metadata": {},
     "output_type": "display_data"
    }
   ],
   "source": [
    "telco_customers.hist(column='SERVICE_PLAN',by='Churn',bins=50)"
   ]
  },
  {
   "cell_type": "markdown",
   "metadata": {},
   "source": [
    "Clearly there are specific Service Plans whose customers have Churned"
   ]
  },
  {
   "cell_type": "code",
   "execution_count": 539,
   "metadata": {},
   "outputs": [
    {
     "data": {
      "text/plain": [
       "array([<matplotlib.axes._subplots.AxesSubplot object at 0x1a261f6ef0>,\n",
       "       <matplotlib.axes._subplots.AxesSubplot object at 0x1a26334f28>],\n",
       "      dtype=object)"
      ]
     },
     "execution_count": 539,
     "metadata": {},
     "output_type": "execute_result"
    },
    {
     "data": {
      "image/png": "[encoded data removed]",
      "text/plain": [
       "<matplotlib.figure.Figure at 0x1a226edc88>"
      ]
     },
     "metadata": {},
     "output_type": "display_data"
    }
   ],
   "source": [
    "telco_customers.hist(column='MOST_RECENT_SALES_CHANNEL',by='Churn',bins=50)"
   ]
  },
  {
   "cell_type": "markdown",
   "metadata": {},
   "source": [
    "'Hughes Sales Agents' customers seem to have all churned."
   ]
  },
  {
   "cell_type": "code",
   "execution_count": 571,
   "metadata": {},
   "outputs": [
    {
     "data": {
      "text/plain": [
       "array([<matplotlib.axes._subplots.AxesSubplot object at 0x1a27190438>,\n",
       "       <matplotlib.axes._subplots.AxesSubplot object at 0x1a27c3eba8>],\n",
       "      dtype=object)"
      ]
     },
     "execution_count": 571,
     "metadata": {},
     "output_type": "execute_result"
    },
    {
     "data": {
      "image/png": "[encoded data removed]",
      "text/plain": [
       "<matplotlib.figure.Figure at 0x1a26f847b8>"
      ]
     },
     "metadata": {},
     "output_type": "display_data"
    }
   ],
   "source": [
    "telco_customers.hist(column='INCOME',by='Churn',bins=50)"
   ]
  },
  {
   "cell_type": "markdown",
   "metadata": {},
   "source": [
    "Looks like customers in 'Annual Income > 10K < 20K' and 'Annual Income > 30K < 40K' are more prone to Churn"
   ]
  },
  {
   "cell_type": "code",
   "execution_count": 573,
   "metadata": {},
   "outputs": [
    {
     "data": {
      "text/plain": [
       "array([<matplotlib.axes._subplots.AxesSubplot object at 0x1a287acfd0>,\n",
       "       <matplotlib.axes._subplots.AxesSubplot object at 0x1a2720ae80>],\n",
       "      dtype=object)"
      ]
     },
     "execution_count": 573,
     "metadata": {},
     "output_type": "execute_result"
    },
    {
     "data": {
      "image/png": "[encoded data removed]",
      "text/plain": [
       "<matplotlib.figure.Figure at 0x1a26b57780>"
      ]
     },
     "metadata": {},
     "output_type": "display_data"
    }
   ],
   "source": [
    "telco_customers.hist(column='FEEDBACK',by='Churn',bins=50)"
   ]
  },
  {
   "cell_type": "markdown",
   "metadata": {},
   "source": [
    "Clearly BAD Feedback is resulting into Churn"
   ]
  },
  {
   "cell_type": "code",
   "execution_count": 575,
   "metadata": {},
   "outputs": [
    {
     "data": {
      "text/plain": [
       "array([<matplotlib.axes._subplots.AxesSubplot object at 0x1a28a7da20>,\n",
       "       <matplotlib.axes._subplots.AxesSubplot object at 0x1a28ba1da0>],\n",
       "      dtype=object)"
      ]
     },
     "execution_count": 575,
     "metadata": {},
     "output_type": "execute_result"
    },
    {
     "data": {
      "image/png": "[encoded data removed]",
      "text/plain": [
       "<matplotlib.figure.Figure at 0x1a21ebba90>"
      ]
     },
     "metadata": {},
     "output_type": "display_data"
    }
   ],
   "source": [
    "telco_customers.hist(column='COMPUTER_OWNER',by='Churn',bins=50)"
   ]
  },
  {
   "cell_type": "markdown",
   "metadata": {},
   "source": [
    "Strangely Computer Owners have Churned more!"
   ]
  },
  {
   "cell_type": "code",
   "execution_count": 578,
   "metadata": {},
   "outputs": [
    {
     "data": {
      "text/plain": [
       "array([<matplotlib.axes._subplots.AxesSubplot object at 0x1a29224be0>,\n",
       "       <matplotlib.axes._subplots.AxesSubplot object at 0x1a2a3044a8>],\n",
       "      dtype=object)"
      ]
     },
     "execution_count": 578,
     "metadata": {},
     "output_type": "execute_result"
    },
    {
     "data": {
      "image/png": "[encoded data removed]",
      "text/plain": [
       "<matplotlib.figure.Figure at 0x1a290ae550>"
      ]
     },
     "metadata": {},
     "output_type": "display_data"
    }
   ],
   "source": [
    "telco_customers.hist(column='AGE',by='Churn',bins=50)"
   ]
  },
  {
   "cell_type": "markdown",
   "metadata": {},
   "source": [
    "Age group between 40-60 seem to have churned more"
   ]
  },
  {
   "cell_type": "markdown",
   "metadata": {},
   "source": [
    "# Classification"
   ]
  },
  {
   "cell_type": "markdown",
   "metadata": {},
   "source": [
    "## Splitting the base table into Train & Test"
   ]
  },
  {
   "cell_type": "code",
   "execution_count": 662,
   "metadata": {},
   "outputs": [],
   "source": [
    "# train-test split\n",
    "X = telco_customers.drop(['SITE_ACCOUNT_NUMBER','ZIPCODE','ADDRESS','FIRST_NAME','LAST_NAME','EMAIL_ADDRESS'\n",
    "                          ,'FIRST_COMMUNICATION_DATE','Churn'], axis=1)\n",
    "Y = telco_customers['Churn']\n",
    "train_X, test_X, train_Y, test_Y = train_test_split(X, Y, random_state=7)"
   ]
  },
  {
   "cell_type": "code",
   "execution_count": 663,
   "metadata": {},
   "outputs": [
    {
     "name": "stderr",
     "output_type": "stream",
     "text": [
      "/Users/kanuamit/anaconda3/lib/python3.6/site-packages/ipykernel_launcher.py:10: SettingWithCopyWarning: \n",
      "A value is trying to be set on a copy of a slice from a DataFrame.\n",
      "Try using .loc[row_indexer,col_indexer] = value instead\n",
      "\n",
      "See the caveats in the documentation: http://pandas.pydata.org/pandas-docs/stable/indexing.html#indexing-view-versus-copy\n",
      "  # Remove the CWD from sys.path while we load stuff.\n",
      "/Users/kanuamit/anaconda3/lib/python3.6/site-packages/ipykernel_launcher.py:11: SettingWithCopyWarning: \n",
      "A value is trying to be set on a copy of a slice from a DataFrame.\n",
      "Try using .loc[row_indexer,col_indexer] = value instead\n",
      "\n",
      "See the caveats in the documentation: http://pandas.pydata.org/pandas-docs/stable/indexing.html#indexing-view-versus-copy\n",
      "  # This is added back by InteractiveShellApp.init_path()\n"
     ]
    }
   ],
   "source": [
    "# Label Encoding\n",
    "le=LabelEncoder()\n",
    "# Iterating over all the common columns in train and test\n",
    "for col in test_X.columns.values:\n",
    "    # Encoding only categorical variables\n",
    "    if test_X[col].dtypes=='object':\n",
    "        # Using whole data to form an exhaustive list of levels\n",
    "        data=train_X[col].append(test_X[col])\n",
    "        le.fit(data.values)\n",
    "        train_X[col]=le.transform(train_X[col])\n",
    "        test_X[col]=le.transform(test_X[col])"
   ]
  },
  {
   "cell_type": "markdown",
   "metadata": {},
   "source": [
    "### Random Forest"
   ]
  },
  {
   "cell_type": "code",
   "execution_count": 667,
   "metadata": {},
   "outputs": [
    {
     "data": {
      "text/plain": [
       "RandomForestClassifier(bootstrap=True, class_weight=None, criterion='gini',\n",
       "            max_depth=10, max_features='auto', max_leaf_nodes=None,\n",
       "            min_impurity_decrease=0.0, min_impurity_split=None,\n",
       "            min_samples_leaf=75, min_samples_split=1200,\n",
       "            min_weight_fraction_leaf=0.0, n_estimators=200, n_jobs=1,\n",
       "            oob_score=False, random_state=None, verbose=0,\n",
       "            warm_start=False)"
      ]
     },
     "execution_count": 667,
     "metadata": {},
     "output_type": "execute_result"
    }
   ],
   "source": [
    "rf1 = RandomForestClassifier(n_estimators=200, max_features='auto', \n",
    "                           min_samples_split=1200, max_depth=10, min_samples_leaf=75)\n",
    "rf1.fit(train_X,train_Y)"
   ]
  },
  {
   "cell_type": "code",
   "execution_count": 665,
   "metadata": {},
   "outputs": [
    {
     "data": {
      "text/plain": [
       "<matplotlib.axes._subplots.AxesSubplot at 0x1a2e8eba20>"
      ]
     },
     "execution_count": 665,
     "metadata": {},
     "output_type": "execute_result"
    },
    {
     "data": {
      "image/png": "[encoded data removed]",
      "text/plain": [
       "<matplotlib.figure.Figure at 0x1a2e8eb5f8>"
      ]
     },
     "metadata": {},
     "output_type": "display_data"
    }
   ],
   "source": [
    "indices = np.argsort(rf1.feature_importances_)[::-1]\n",
    "feature_rank = pd.DataFrame( columns = ['rank', 'feature', 'importance'] )\n",
    "for f in range(train_X.shape[1]):\n",
    "    feature_rank.loc[f] = [f+1,\n",
    "                         train_X.columns[indices[f]],\n",
    "                         rf1.feature_importances_[indices[f]]]\n",
    "sns.barplot( y = 'feature', x = 'importance', data = feature_rank[:10] )"
   ]
  },
  {
   "cell_type": "code",
   "execution_count": 669,
   "metadata": {},
   "outputs": [
    {
     "name": "stdout",
     "output_type": "stream",
     "text": [
      "Train Accuracy: 1.0\n",
      "Test Accuracy: 1.0\n",
      "Confusion matrix for Train: \n",
      " [[7570    0]\n",
      " [   0 7428]]\n",
      "Confusion matrix for Test: \n",
      " [[2428    0]\n",
      " [   0 2572]]\n"
     ]
    }
   ],
   "source": [
    "print('Train Accuracy:' , accuracy_score(train_Y, rf1.predict(train_X) ))\n",
    "print('Test Accuracy:' , accuracy_score(test_Y, rf1.predict(test_X) ))\n",
    "\n",
    "print('Confusion matrix for Train: \\n' , confusion_matrix(train_Y, rf1.predict(train_X)))\n",
    "print('Confusion matrix for Test: \\n' , confusion_matrix(test_Y, rf1.predict(test_X) ))"
   ]
  },
  {
   "cell_type": "markdown",
   "metadata": {},
   "source": [
    "#### Seems like DAYS_ACTIVE is causing the model to overfit. Let's remove this feature and re-run the model"
   ]
  },
  {
   "cell_type": "code",
   "execution_count": 671,
   "metadata": {},
   "outputs": [
    {
     "data": {
      "text/plain": [
       "RandomForestClassifier(bootstrap=True, class_weight=None, criterion='gini',\n",
       "            max_depth=10, max_features='auto', max_leaf_nodes=None,\n",
       "            min_impurity_decrease=0.0, min_impurity_split=None,\n",
       "            min_samples_leaf=75, min_samples_split=1200,\n",
       "            min_weight_fraction_leaf=0.0, n_estimators=200, n_jobs=1,\n",
       "            oob_score=False, random_state=None, verbose=0,\n",
       "            warm_start=False)"
      ]
     },
     "execution_count": 671,
     "metadata": {},
     "output_type": "execute_result"
    }
   ],
   "source": [
    "rf2 = RandomForestClassifier(n_estimators=200, max_features='auto', \n",
    "                           min_samples_split=1200, max_depth=10, min_samples_leaf=75)\n",
    "rf2.fit(train_X.drop('DAYS_ACTIVE',axis=1),train_Y)"
   ]
  },
  {
   "cell_type": "code",
   "execution_count": 672,
   "metadata": {},
   "outputs": [
    {
     "data": {
      "text/plain": [
       "<matplotlib.axes._subplots.AxesSubplot at 0x1a2b4459b0>"
      ]
     },
     "execution_count": 672,
     "metadata": {},
     "output_type": "execute_result"
    },
    {
     "data": {
      "image/png": "[encoded data removed]",
      "text/plain": [
       "<matplotlib.figure.Figure at 0x1a27c3e0f0>"
      ]
     },
     "metadata": {},
     "output_type": "display_data"
    }
   ],
   "source": [
    "indices = np.argsort(rf2.feature_importances_)[::-1]\n",
    "feature_rank = pd.DataFrame( columns = ['rank', 'feature', 'importance'] )\n",
    "for f in range(train_X.drop('DAYS_ACTIVE',axis=1).shape[1]):\n",
    "    feature_rank.loc[f] = [f+1,\n",
    "                         train_X.drop('DAYS_ACTIVE',axis=1).columns[indices[f]],\n",
    "                         rf2.feature_importances_[indices[f]]]\n",
    "sns.barplot( y = 'feature', x = 'importance', data = feature_rank[:10] )"
   ]
  },
  {
   "cell_type": "markdown",
   "metadata": {},
   "source": [
    "#### SITE_TYPE_DESC, MOST_RECENT_SALES_CHANNEL, WARRANTY_NAME, SATELLITE, COMPUTER_OWNER, SALES_CHANNEL, SERVICE_PLAN are the most important factors impacting Churn. Seems like the reason for Churn are primarily the Quality of Service provided by the Telecom Service Provider."
   ]
  },
  {
   "cell_type": "code",
   "execution_count": 673,
   "metadata": {},
   "outputs": [
    {
     "name": "stdout",
     "output_type": "stream",
     "text": [
      "Train Accuracy: 0.904453927190292\n",
      "Test Accuracy: 0.8992\n",
      "Confusion matrix for Train: \n",
      " [[6833  737]\n",
      " [ 696 6732]]\n",
      "Confusion matrix for Test: \n",
      " [[2172  256]\n",
      " [ 248 2324]]\n"
     ]
    }
   ],
   "source": [
    "print('Train Accuracy:' , accuracy_score(train_Y, rf2.predict(train_X.drop('DAYS_ACTIVE',axis=1)) ))\n",
    "print('Test Accuracy:' , accuracy_score(test_Y, rf2.predict(test_X.drop('DAYS_ACTIVE',axis=1)) ))\n",
    "\n",
    "print('Confusion matrix for Train: \\n' , confusion_matrix(train_Y, rf2.predict(train_X.drop('DAYS_ACTIVE',axis=1))))\n",
    "print('Confusion matrix for Test: \\n' , confusion_matrix(test_Y, rf2.predict(test_X.drop('DAYS_ACTIVE',axis=1)) ))"
   ]
  },
  {
   "cell_type": "markdown",
   "metadata": {},
   "source": [
    "## Logistic Regression"
   ]
  },
  {
   "cell_type": "code",
   "execution_count": 627,
   "metadata": {},
   "outputs": [
    {
     "data": {
      "text/plain": [
       "LogisticRegression(C=1.0, class_weight=None, dual=False, fit_intercept=True,\n",
       "          intercept_scaling=1, max_iter=100, multi_class='ovr', n_jobs=1,\n",
       "          penalty='l2', random_state=None, solver='liblinear', tol=0.0001,\n",
       "          verbose=0, warm_start=False)"
      ]
     },
     "execution_count": 627,
     "metadata": {},
     "output_type": "execute_result"
    }
   ],
   "source": [
    "lg = LogisticRegression()\n",
    "lg.fit(train_X.drop('DAYS_ACTIVE',axis=1), train_Y)"
   ]
  },
  {
   "cell_type": "code",
   "execution_count": 645,
   "metadata": {},
   "outputs": [
    {
     "name": "stdout",
     "output_type": "stream",
     "text": [
      "Train Accuracy: 0.8079743965862115\n",
      "Test Accuracy: 0.8038\n",
      "Confusion matrix for Train: \n",
      " [[6288 1282]\n",
      " [1598 5830]]\n",
      "Confusion matrix for Test: \n",
      " [[1994  434]\n",
      " [ 547 2025]]\n"
     ]
    }
   ],
   "source": [
    "print('Train Accuracy:' , accuracy_score(train_Y, lg.predict(train_X.drop('DAYS_ACTIVE',axis=1))))\n",
    "print('Test Accuracy:' , accuracy_score(test_Y, lg.predict(test_X.drop('DAYS_ACTIVE',axis=1))))\n",
    "\n",
    "print('Confusion matrix for Train: \\n' , confusion_matrix(train_Y, lg.predict(train_X.drop('DAYS_ACTIVE',axis=1))))\n",
    "print('Confusion matrix for Test: \\n' , confusion_matrix(test_Y, lg.predict(test_X.drop('DAYS_ACTIVE',axis=1)) ))"
   ]
  },
  {
   "cell_type": "markdown",
   "metadata": {},
   "source": [
    "## AdaBoost Classifier"
   ]
  },
  {
   "cell_type": "code",
   "execution_count": 677,
   "metadata": {},
   "outputs": [],
   "source": [
    "ad = AdaBoostClassifier().fit(train_X.drop('DAYS_ACTIVE',axis=1), train_Y)"
   ]
  },
  {
   "cell_type": "code",
   "execution_count": 678,
   "metadata": {},
   "outputs": [
    {
     "name": "stdout",
     "output_type": "stream",
     "text": [
      "Train Accuracy: 0.9739298573143086\n",
      "Test Accuracy: 0.9698\n",
      "Confusion matrix for Train: \n",
      " [[7395  175]\n",
      " [ 216 7212]]\n",
      "Confusion matrix for Test: \n",
      " [[2370   58]\n",
      " [  93 2479]]\n"
     ]
    }
   ],
   "source": [
    "print('Train Accuracy:' , accuracy_score(train_Y, ad.predict(train_X.drop('DAYS_ACTIVE',axis=1))))\n",
    "print('Test Accuracy:' , accuracy_score(test_Y, ad.predict(test_X.drop('DAYS_ACTIVE',axis=1))))\n",
    "\n",
    "print('Confusion matrix for Train: \\n' , confusion_matrix(train_Y, ad.predict(train_X.drop('DAYS_ACTIVE',axis=1))))\n",
    "print('Confusion matrix for Test: \\n' , confusion_matrix(test_Y, ad.predict(test_X.drop('DAYS_ACTIVE',axis=1)) ))"
   ]
  },
  {
   "cell_type": "markdown",
   "metadata": {},
   "source": [
    "# Segmentation / Clustering"
   ]
  },
  {
   "cell_type": "code",
   "execution_count": 682,
   "metadata": {},
   "outputs": [
    {
     "name": "stdout",
     "output_type": "stream",
     "text": [
      "Collecting kmodes\n",
      "  Downloading https://files.pythonhosted.org/packages/1a/d5/54e0efa2ddf33234761f8c35471f4a2280bb4cef44fd39fa08f1e663946a/kmodes-0.9-py2.py3-none-any.whl\n",
      "Requirement already satisfied: numpy>=1.10.4 in /Users/kanuamit/anaconda3/lib/python3.6/site-packages (from kmodes)\n",
      "Requirement already satisfied: scipy>=0.13.3 in /Users/kanuamit/anaconda3/lib/python3.6/site-packages (from kmodes)\n",
      "Requirement already satisfied: scikit-learn<0.20.0,>=0.19.0 in /Users/kanuamit/anaconda3/lib/python3.6/site-packages (from kmodes)\n",
      "Installing collected packages: kmodes\n",
      "Successfully installed kmodes-0.9\n",
      "\u001b[33mYou are using pip version 9.0.1, however version 18.0 is available.\n",
      "You should consider upgrading via the 'pip install --upgrade pip' command.\u001b[0m\n"
     ]
    }
   ],
   "source": [
    "# Install KModes\n",
    "!pip install kmodes"
   ]
  },
  {
   "cell_type": "code",
   "execution_count": 688,
   "metadata": {},
   "outputs": [
    {
     "data": {
      "text/plain": [
       "Index(['SITE_TYPE_DESC', 'MOST_RECENT_SALES_CHANNEL', 'WARRANTY_NAME',\n",
       "       'SATELLITE', 'COMPUTER_OWNER', 'SALES_CHANNEL', 'SERVICE_PLAN', 'MODEL',\n",
       "       'SALES_SOURCE', 'INCOME', 'Churn'],\n",
       "      dtype='object')"
      ]
     },
     "execution_count": 688,
     "metadata": {},
     "output_type": "execute_result"
    }
   ],
   "source": [
    "# Use the significant features identified above\n",
    "clustering_data = telco_customers[['SITE_TYPE_DESC','MOST_RECENT_SALES_CHANNEL','WARRANTY_NAME','SATELLITE',\n",
    "                                  'COMPUTER_OWNER','SALES_CHANNEL','SERVICE_PLAN','MODEL','SALES_SOURCE',\n",
    "                                  'INCOME','Churn']]\n",
    "clustering_data.columns"
   ]
  },
  {
   "cell_type": "code",
   "execution_count": 690,
   "metadata": {},
   "outputs": [
    {
     "name": "stdout",
     "output_type": "stream",
     "text": [
      "Init: initializing centroids\n",
      "Init: initializing clusters\n",
      "Starting iterations...\n",
      "Run 1, iteration: 1/100, moves: 7382, cost: 103109.0\n",
      "Run 1, iteration: 2/100, moves: 1862, cost: 102828.0\n",
      "Run 1, iteration: 3/100, moves: 564, cost: 102828.0\n",
      "Init: initializing centroids\n",
      "Init: initializing clusters\n",
      "Starting iterations...\n",
      "Run 2, iteration: 1/100, moves: 7781, cost: 104986.0\n",
      "Run 2, iteration: 2/100, moves: 55, cost: 104986.0\n",
      "Init: initializing centroids\n",
      "Init: initializing clusters\n",
      "Starting iterations...\n",
      "Run 3, iteration: 1/100, moves: 7458, cost: 104144.0\n",
      "Run 3, iteration: 2/100, moves: 1399, cost: 104144.0\n",
      "Init: initializing centroids\n",
      "Init: initializing clusters\n",
      "Starting iterations...\n",
      "Run 4, iteration: 1/100, moves: 6777, cost: 103470.0\n",
      "Run 4, iteration: 2/100, moves: 1075, cost: 103470.0\n",
      "Init: initializing centroids\n",
      "Init: initializing clusters\n",
      "Starting iterations...\n",
      "Run 5, iteration: 1/100, moves: 6158, cost: 104155.0\n",
      "Run 5, iteration: 2/100, moves: 0, cost: 104155.0\n",
      "Best run was number 1\n",
      "[['Broadband Remote' 'HN7000 Upgrade' 'Not Applicable' 'SPACEWAY3' 'N'\n",
      "  'Sales Agents' 'Home' 'HN7000S' 'TAG' '0' '0']\n",
      " ['Spaceway' 'Direct' 'Not Applicable' 'SPACEWAY3' 'N' 'Vars' 'Power150'\n",
      "  'HN7000S' 'TAG' '4' '0']\n",
      " ['Broadband Remote' 'Hughes Sales Agents' 'Not Applicable' 'SPACEWAY3'\n",
      "  'N' 'Sales Agents' 'Elite' 'HN9000' 'TAG' '5' '1']\n",
      " ['Spaceway' 'Hughes Sales Agents' 'EXPRESS REPAIR BASIC' 'SM6-HOR-10K'\n",
      "  'N' 'Sales Agents' 'SO' 'DW6000' 'Red Ventures LLC (SA)' '0' '1']\n",
      " ['Spaceway' 'Direct' 'Not Applicable' 'SPACEWAY3' 'N' 'Sales Agents'\n",
      "  'Home' 'HN7000S' 'TAG' '0' '1']]\n"
     ]
    }
   ],
   "source": [
    "from kmodes.kmodes import KModes\n",
    "\n",
    "km = KModes(n_clusters=5, init='Huang', n_init=5, verbose=1)\n",
    "\n",
    "clusters = km.fit_predict(clustering_data)\n",
    "\n",
    "# Print the cluster centroids\n",
    "print(km.cluster_centroids_)"
   ]
  },
  {
   "cell_type": "markdown",
   "metadata": {},
   "source": [
    "# Conclusion:"
   ]
  },
  {
   "cell_type": "markdown",
   "metadata": {},
   "source": [
    "1. With AdaBoost we got 97% accuracy compared to 90% and 80% accuracy with Random Forest and Logistic Regression respectively\n",
    "\n",
    "2. Following are the important factors affecting Churn:\n",
    "    \n",
    "    2.1 SITE_TYPE_DESC, \n",
    "    \n",
    "    2.2 MOST_RECENT_SALES_CHANNEL, \n",
    "    \n",
    "    2.3 WARRANTY_NAME,\n",
    "    \n",
    "    2.4 SATELLITE, \n",
    "    \n",
    "    2.5 COMPUTER_OWNER, \n",
    "    \n",
    "    2.6 SALES_CHANNEL, \n",
    "    \n",
    "    2.7 SERVICE_PLAN, \n",
    "    \n",
    "    2.8 MODEL,\n",
    "    \n",
    "    2.9 SALES_SOURCE, \n",
    "    \n",
    "    2.10 INCOME\n",
    "    \n",
    "3. Segmentation/Clustering Analysis:\n",
    "    \n",
    "    3.1 'Hughes Sales Agents' channel need some attention, as almost all of its customers are Churning\n",
    "    \n",
    "    3.2 Warranties are not helping stop the Churn\n",
    "    \n",
    "    3.3 Customers subscribed to 'Elite' Service Plans have Churned"
   ]
  }
 ],
 "metadata": {
  "kernelspec": {
   "display_name": "Python 3",
   "language": "python",
   "name": "python3"
  },
  "language_info": {
   "codemirror_mode": {
    "name": "ipython",
    "version": 3
   },
   "file_extension": ".py",
   "mimetype": "text/x-python",
   "name": "python",
   "nbconvert_exporter": "python",
   "pygments_lexer": "ipython3",
   "version": "3.6.4"
  }
 },
 "nbformat": 4,
 "nbformat_minor": 2
}
